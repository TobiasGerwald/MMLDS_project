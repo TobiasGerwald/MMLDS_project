{
 "cells": [
  {
   "cell_type": "code",
   "execution_count": 77,
   "metadata": {},
   "outputs": [
    {
     "name": "stderr",
     "output_type": "stream",
     "text": [
      "\u001b[32m\u001b[1m  Activating\u001b[22m\u001b[39m project at `~/Documents/GitHub/compare_ML_DynamicalSystem/MMLDS_project/src/MMLDS_project`\n"
     ]
    }
   ],
   "source": [
    "import Pkg\n",
    "Pkg.activate(\"MMLDS_project\")\n",
    "#Pkg.update()\n",
    "#Pkg.instantiate()\n",
    "#Pkg.add(\"ProgressMeter\")\n",
    "#Pkg.add(\"DynamicalSystems\")\n",
    "#Pkg.add(\"ReservoirComputing\")\n",
    "#Pkg.add(\"Plots\")\n",
    "#Pkg.add(\"Printf\")\n",
    "#Pkg.add(\"DifferentialEquations\")\n",
    "#Pkg.add(\"OrdinaryDiffEq\")\n",
    "#Pkg.add(\"NetCDF\")\n",
    "#Pkg.add(\"JLD2\")\n",
    "\n",
    "using ProgressMeter\n",
    "using DynamicalSystems, ReservoirComputing, Plots, Printf\n",
    "using DifferentialEquations\n",
    "using OrdinaryDiffEq\n",
    "using NetCDF\n",
    "using JLD2\n",
    "\n"
   ]
  },
  {
   "cell_type": "code",
   "execution_count": 78,
   "metadata": {},
   "outputs": [
    {
     "data": {
      "text/plain": [
       "load_ESN (generic function with 1 method)"
      ]
     },
     "metadata": {},
     "output_type": "display_data"
    }
   ],
   "source": [
    "#notebook not working without input\n",
    "include(\"data.jl\")\n",
    "include(\"Reservoir_Computing.jl\")"
   ]
  },
  {
   "cell_type": "code",
   "execution_count": 79,
   "metadata": {},
   "outputs": [
    {
     "data": {
      "text/plain": [
       "20×2040 Matrix{Float64}:\n",
       " 28.0325  27.8742  28.1076  28.688   …  28.621   29.4195  29.5172  29.0083\n",
       " 28.2426  28.2316  28.488   28.9117     28.3489  29.3835  29.6865  29.3908\n",
       " 28.5179  28.6131  28.8473  29.1355     28.6434  29.723   29.7411  29.3795\n",
       " 28.84    28.8382  29.0742  29.1841     29.4347  30.2484  29.8994  29.4668\n",
       " 29.023   28.9616  29.1702  29.2372     29.4146  30.2277  29.8914  29.5535\n",
       " 29.1572  29.1256  29.2598  29.2776  …  29.7037  30.4001  30.031   29.7284\n",
       " 29.1264  29.117   29.196   29.2381     29.8099  30.4189  30.0984  29.8489\n",
       " 28.9993  29.0324  29.076   29.1209     30.1048  30.5088  30.2152  29.9283\n",
       " 28.7191  28.7542  28.6979  28.8395     30.32    30.6631  30.3864  30.0508\n",
       " 28.4407  28.3725  28.2181  28.6071     30.32    30.5643  30.4019  30.1978\n",
       " 28.7257  28.5573  28.5916  28.9932  …  27.2255  28.4254  29.3495  29.8018\n",
       " 28.7958  28.7403  28.7715  29.102      26.6425  28.0568  29.141   29.8132\n",
       " 28.8938  28.9374  28.9322  29.1185     27.5829  28.7421  29.3249  29.7972\n",
       " 28.8633  28.9983  29.0224  29.1447     29.0611  29.7091  29.5228  29.6685\n",
       " 28.7771  28.9013  29.0346  29.0734     29.1806  29.9763  29.6906  29.6626\n",
       " 29.029   29.1433  29.2485  29.2583  …  29.1547  29.9691  29.676   29.8036\n",
       " 29.3668  29.4022  29.4523  29.3927     29.702   30.424   30.0788  30.2832\n",
       " 29.2807  29.2732  29.3121  29.2985     30.0934  30.6224  30.2738  30.4604\n",
       " 29.0902  29.0125  29.022   29.0925     30.4542  30.9208  30.6285  30.6144\n",
       " 28.8026  28.662   28.6716  28.8634     30.4046  30.8168  30.6959  30.7104"
      ]
     },
     "metadata": {},
     "output_type": "display_data"
    }
   ],
   "source": [
    "#Loading and changing El Nino Data\n",
    "path_to_data = \"sst.mon.mean.nc\"\n",
    "\n",
    "x = ncread(path_to_data, \"sst\") #sst = Sea Surface Temperature\n",
    "x_reduced = x[121:170, 86:95, :] #only concerned with the important region for the El Nino happening\n",
    "\n",
    "X_matirx = compress_data_matrix(x_reduced, 5, false)\n",
    "\n",
    "#our esn accepts vectors as input\n",
    "X_vector = reshape(X_matirx, (20,2040))\n",
    "#print(\"Data successfully loaded.\")"
   ]
  },
  {
   "cell_type": "code",
   "execution_count": 80,
   "metadata": {},
   "outputs": [
    {
     "name": "stdout",
     "output_type": "stream",
     "text": [
      "6 hyperparameter combinations.\n"
     ]
    }
   ],
   "source": [
    "#generating train, val and test set\n",
    "train_data, val_data, test_data = train_val_test_split(X_vector, val_seconds = 5, test_seconds = 5)\n",
    "\n",
    "#Define grid:\n",
    "# Set up the hyperparameter grid-search\n",
    "param_grid = []\n",
    "\n",
    "reservoir_sizes = [256, 512, 1024]\n",
    "spectral_radii = [0.8, 0.9, 1.0,1.1, 1.2] #1,1 gives good results\n",
    "sparsities = [0.01, 0.03, 0.05]\n",
    "input_scales = [0.1,0.01, 0.05]\n",
    "ridge_values = [1e-6, 1e-5, 1e-4, 1e-3,1e-2,1e-1]\n",
    "# Take the Cartesian product of the possible values\n",
    "for params in Iterators.product(reservoir_sizes, spectral_radii, sparsities, input_scales, ridge_values)\n",
    "    push!(param_grid, ESNHyperparams(params...))\n",
    "end\n",
    "println(length(param_grid), \" hyperparameter combinations.\")"
   ]
  },
  {
   "cell_type": "code",
   "execution_count": 81,
   "metadata": {},
   "outputs": [
    {
     "name": "stdout",
     "output_type": "stream",
     "text": [
      "ESNHyperparams(512, 1.1, 0.03, 0.01, 0.0)\n",
      "Validation loss = 2.2e+02\n"
     ]
    },
    {
     "name": "stderr",
     "output_type": "stream",
     "text": [
      "\r\u001b[32mProgress:  33%|█████████████▋                           |  ETA: 0:00:09\u001b[39m\u001b[K"
     ]
    },
    {
     "name": "stderr",
     "output_type": "stream",
     "text": [
      "\r\u001b[32mProgress:  50%|████████████████████▌                    |  ETA: 0:00:20\u001b[39m\u001b[K"
     ]
    },
    {
     "name": "stdout",
     "output_type": "stream",
     "text": [
      "ESNHyperparams(512, 1.1, 0.05, 0.01, 0.0)\n",
      "Validation loss = 1.3e+02\n"
     ]
    },
    {
     "name": "stderr",
     "output_type": "stream",
     "text": [
      "\r\u001b[32mProgress:  83%|██████████████████████████████████▏      |  ETA: 0:00:05\u001b[39m\u001b[K"
     ]
    },
    {
     "name": "stderr",
     "output_type": "stream",
     "text": [
      "\r\u001b[32mProgress: 100%|█████████████████████████████████████████| Time: 0:00:42\u001b[39m\u001b[K\n"
     ]
    },
    {
     "data": {
      "text/plain": [
       "(ESN{Int64, Matrix{Float64}, Default, NLADefault, Matrix{Float64}, RNN{typeof(NNlib.tanh_fast), Float64}, Matrix{Float64}, Matrix{Float64}, StandardStates, Int64, Matrix{Float64}}(500, [28.032480239868164 27.874191284179688 … 28.628190994262695 29.02614402770996; 28.24264144897461 28.231639862060547 … 28.107284545898438 28.52972412109375; … ; 29.0902042388916 29.012521743774414 … 29.2639217376709 29.486040115356445; 28.802597045898438 28.66204071044922 … 29.333803176879883 29.558361053466797], Default(), NLADefault(), [0.004779597718952153 0.0 … 0.0 0.0; -0.008851825538059006 0.0 … 0.0 0.0; … ; 0.0 0.0 … 0.0 0.003570301365797496; 0.0 0.0 … 0.0 -0.003895195253322435], RNN{typeof(NNlib.tanh_fast), Float64}(NNlib.tanh_fast, 1.0), [0.0 0.0 … 0.0 0.0; 0.0 0.0 … 0.0 0.0; … ; 0.0 0.0 … 0.0 0.0; 0.0 0.0 … 0.0 0.0], [0.0; 0.0; … ; 0.0; 0.0;;], StandardStates(), 0, [0.13318794715106264 0.03708856529399884 … -0.1205445889286795 -0.10789762887435282; -0.24316814576431023 -0.14748955977846534 … -0.3512118938317736 -0.35841253426775305; … ; 0.10247299475227052 0.29756080789945283 … 0.2753029048736356 0.2761970438857905; -0.11172337862405904 -0.3992794324779478 … -0.5921987455596301 -0.587729856881625]), OutputLayer{StandardRidge{Float64}, LinearAlgebra.Adjoint{Float64, Matrix{Float64}}, Int64, Vector{Float64}}(StandardRidge{Float64}(0.0), [-182.85270651786152 454.1375207243764 … -112.706097539083 133.6519427258954; -160.24601126149102 336.8767699793831 … -40.73937606545406 283.66854139823266; … ; 699.6772205344964 -90.32164316708489 … 111.33312063754435 19.285930628776836; 751.1999954241038 -74.80062065011838 … 274.6899829943731 203.33544533804294], 20, [29.149429321289062, 28.65192413330078, 28.834640502929688, 29.18836212158203, 29.146839141845703, 29.25888442993164, 29.2716007232666, 29.335798263549805, 29.305763244628906, 29.151681900024414, 28.276582717895508, 27.650362014770508, 27.940204620361328, 28.86191749572754, 29.004562377929688, 28.879566192626953, 29.144243240356445, 29.23735809326172, 29.58588218688965, 29.58435821533203]))"
      ]
     },
     "metadata": {},
     "output_type": "display_data"
    }
   ],
   "source": [
    "#train network\n",
    "#@time esn, W_out = cross_validate_esn(train_data, val_data, param_grid)\n",
    "esn, W_out = cross_validate_esn(train_data, val_data, param_grid)"
   ]
  },
  {
   "cell_type": "code",
   "execution_count": 82,
   "metadata": {},
   "outputs": [
    {
     "name": "stdout",
     "output_type": "stream",
     "text": [
      "The size of the predictions is: (20, 100)The size of the X_vector is: (20, 2040)"
     ]
    }
   ],
   "source": [
    "#predictions\n",
    "# does not work: predictions = ESNpredict(esn, 100,W_out)\n",
    "predictions = esn(Generative(100), W_out)\n",
    "print(\"The size of the predictions is: \", size(predictions))\n",
    "print(\"The size of the X_vector is: \", size(X_vector))\n",
    "\n",
    "times = 1:1:100\n",
    "label = [\"actual\" \"predicted\"]\n",
    "\n",
    "for i in 1:20\n",
    "    i_data = X_vector[i, 1:100]\n",
    "    p = plot(times, [i_data, predictions[i,1:100]], label = label, ylabel = \"temperature\")#\n",
    "    saveEnding = string(i)\n",
    "    savePath = string(\"/home/tom/Documents/University/3M_semester/Project_MMLDS/MMLDS_2/MMLDS_project/Figures/El_Nino_Predictions/\", saveEnding,\".png\" )\n",
    "    savefig(p, savePath)\n",
    "end\n",
    "    "
   ]
  },
  {
   "cell_type": "code",
   "execution_count": 83,
   "metadata": {},
   "outputs": [],
   "source": [
    "network_pathString = \"esn_network.jld2\"\n",
    "W_out_pathString = \"W_out_matrix.jld2\"\n",
    "save_ESN(esn, network_pathString, W_out, W_out_pathString)\n",
    "esn_loaded, W_out_loaded = load_ESN(network_pathString, W_out_pathString)\n",
    "\n",
    "predictions_loaded = esn_loaded(Generative(100), W_out_loaded)\n",
    "\n",
    "first_field_predicted = predictions_loaded[1,1:100]\n",
    "\n",
    "times = 1:1:100\n",
    "label = [\"actual\" \"predicted\"]\n",
    "\n",
    "for i in 1:20\n",
    "    i_data = X_vector[i, 1:100]\n",
    "    p = plot(times, [i_data, predictions_loaded[i,1:100]], label = label, ylabel = \"temperature\")#\n",
    "    saveEnding = string(i)\n",
    "    savePath = string(\"/home/tom/Documents/University/3M_semester/Project_MMLDS/MMLDS_2/MMLDS_project/Figures/Loaded_El_Nino_Predictions/\", saveEnding,\".png\" )\n",
    "    savefig(p, savePath)\n",
    "end"
   ]
  }
 ],
 "metadata": {
  "kernelspec": {
   "display_name": "Julia 1.8.5",
   "language": "julia",
   "name": "julia-1.8"
  },
  "language_info": {
   "file_extension": ".jl",
   "mimetype": "application/julia",
   "name": "julia",
   "version": "1.8.5"
  },
  "orig_nbformat": 4,
  "vscode": {
   "interpreter": {
    "hash": "da5fd43fd8d11603aabcc52179124e7631dc4da8262088fdefa10042193687fe"
   }
  }
 },
 "nbformat": 4,
 "nbformat_minor": 2
}
