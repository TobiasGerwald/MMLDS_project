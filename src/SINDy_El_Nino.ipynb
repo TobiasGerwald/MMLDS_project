{
 "cells": [
  {
   "cell_type": "code",
   "execution_count": 95,
   "metadata": {},
   "outputs": [
    {
     "name": "stderr",
     "output_type": "stream",
     "text": [
      "\u001b[32m\u001b[1m  Activating\u001b[22m\u001b[39m project at `~/Documents/GitHub/compare_ML_DynamicalSystem/MMLDS_project/src/MMLDS_project`\n"
     ]
    }
   ],
   "source": [
    "import Pkg\n",
    "Pkg.activate(\"MMLDS_project\")\n",
    "\n",
    "#SINDy\n",
    "#Pkg.add(\"DataDrivenDiffEq\")\n",
    "#Pkg.add(\"DataDrivenSparse\")\n",
    "#Pkg.add(\"Subscripts\")\n",
    "\n",
    "#RESERVOIR \n",
    "#Pkg.update()\n",
    "#Pkg.instantiate()\n",
    "#Pkg.add(\"ProgressMeter\")\n",
    "#Pkg.add(\"DynamicalSystems\")\n",
    "#Pkg.add(\"ReservoirComputing\")\n",
    "#Pkg.add(\"Plots\")\n",
    "#Pkg.add(\"Printf\")\n",
    "#Pkg.add(\"DifferentialEquations\")\n",
    "#Pkg.add(\"OrdinaryDiffEq\")\n",
    "#Pkg.add(\"NetCDF\")\n",
    "#Pkg.add(\"JLD2\")\n",
    "\n",
    "#SINDy\n",
    "using DataDrivenDiffEq\n",
    "using DataDrivenSparse\n",
    "using Subscripts\n",
    "\n",
    "#RESERVOIR\n",
    "using ProgressMeter\n",
    "using DynamicalSystems, ReservoirComputing, Plots, Printf\n",
    "using DifferentialEquations\n",
    "using OrdinaryDiffEq\n",
    "using NetCDF\n",
    "using JLD2"
   ]
  },
  {
   "cell_type": "code",
   "execution_count": 28,
   "metadata": {},
   "outputs": [
    {
     "data": {
      "text/plain": [
       "train_SINDy (generic function with 3 methods)"
      ]
     },
     "metadata": {},
     "output_type": "display_data"
    }
   ],
   "source": [
    "include(\"data.jl\")\n",
    "include(\"SINDy.jl\")"
   ]
  },
  {
   "cell_type": "code",
   "execution_count": 13,
   "metadata": {},
   "outputs": [
    {
     "data": {
      "text/plain": [
       "20×2040 Matrix{Float64}:\n",
       " 28.0325  27.8742  28.1076  28.688   …  28.621   29.4195  29.5172  29.0083\n",
       " 28.2426  28.2316  28.488   28.9117     28.3489  29.3835  29.6865  29.3908\n",
       " 28.5179  28.6131  28.8473  29.1355     28.6434  29.723   29.7411  29.3795\n",
       " 28.84    28.8382  29.0742  29.1841     29.4347  30.2484  29.8994  29.4668\n",
       " 29.023   28.9616  29.1702  29.2372     29.4146  30.2277  29.8914  29.5535\n",
       " 29.1572  29.1256  29.2598  29.2776  …  29.7037  30.4001  30.031   29.7284\n",
       " 29.1264  29.117   29.196   29.2381     29.8099  30.4189  30.0984  29.8489\n",
       " 28.9993  29.0324  29.076   29.1209     30.1048  30.5088  30.2152  29.9283\n",
       " 28.7191  28.7542  28.6979  28.8395     30.32    30.6631  30.3864  30.0508\n",
       " 28.4407  28.3725  28.2181  28.6071     30.32    30.5643  30.4019  30.1978\n",
       " 28.7257  28.5573  28.5916  28.9932  …  27.2255  28.4254  29.3495  29.8018\n",
       " 28.7958  28.7403  28.7715  29.102      26.6425  28.0568  29.141   29.8132\n",
       " 28.8938  28.9374  28.9322  29.1185     27.5829  28.7421  29.3249  29.7972\n",
       " 28.8633  28.9983  29.0224  29.1447     29.0611  29.7091  29.5228  29.6685\n",
       " 28.7771  28.9013  29.0346  29.0734     29.1806  29.9763  29.6906  29.6626\n",
       " 29.029   29.1433  29.2485  29.2583  …  29.1547  29.9691  29.676   29.8036\n",
       " 29.3668  29.4022  29.4523  29.3927     29.702   30.424   30.0788  30.2832\n",
       " 29.2807  29.2732  29.3121  29.2985     30.0934  30.6224  30.2738  30.4604\n",
       " 29.0902  29.0125  29.022   29.0925     30.4542  30.9208  30.6285  30.6144\n",
       " 28.8026  28.662   28.6716  28.8634     30.4046  30.8168  30.6959  30.7104"
      ]
     },
     "metadata": {},
     "output_type": "display_data"
    }
   ],
   "source": [
    "#Loading and changing El Nino Data\n",
    "path_to_data = \"sst.mon.mean.nc\"\n",
    "\n",
    "x = ncread(path_to_data, \"sst\") #sst = Sea Surface Temperature\n",
    "x_reduced = x[121:170, 86:95, :] #only concerned with the important region for the El Nino happening\n",
    "\n",
    "X_vector = compress_data_matrix(x_reduced, 5, false, true)"
   ]
  },
  {
   "cell_type": "code",
   "execution_count": 134,
   "metadata": {},
   "outputs": [
    {
     "name": "stdout",
     "output_type": "stream",
     "text": [
      "\u001b[0m\u001b[1mModel ##Basis#418 with 3 equations\u001b[22m\n",
      "States : x(t) y(t) z(t)\n",
      "Parameters : 105\n",
      "Independent variable: t\n",
      "Equations\n",
      "Difference(t; dt=1.0, update=false)(x(t)) = p₁ + p₁₀*(y(t)^2) + p₁₅*(y(t)^4) + p₂₆*(z(t)^2) + p₂*x(t) + p₃*(x(t)^2) + p₄*(x(t)^3) + p₅*(x(t)^4) + p₁₃*(y(t)^3) + p₁₆*z(t) + p₃₂*(z(t)^3) + p₃₅*(z(t)^4) + p₆*y(t) + p₁₉*(x(t)^3)*z(t) + p₁₁*(y(t)^2)*x(t) + p₁₂*(x(t)^2)*(y(t)^2) + p₁₄*(y(t)^3)*x(t) + p₁₇*x(t)*z(t) + p₂₅*(y(t)^3)*z(t) + p₂₀*y(t)*z(t) + p₂₈*(x(t)^2)*(z(t)^2) + p₂₇*(z(t)^2)*x(t) + p₃₃*(z(t)^3)*x(t) + p₂₉*(z(t)^2)*y(t) + p₃₄*(z(t)^3)*y(t) + p₈*(x(t)^2)*y(t) + p₉*(x(t)^3)*y(t) + p₁₈*(x(t)^2)*z(t) + p₂₃*(y(t)^2)*z(t) + p₃₁*(y(t)^2)*(z(t)^2) + p₇*x(t)*y(t) + p₂₄*(y(t)^2)*x(t)*z(t) + p₂₂*(x(t)^2)*y(t)*z(t) + p₂₁*x(t)*y(t)*z(t) + p₃₀*(z(t)^2)*x(t)*y(t)\n",
      "Difference(t; dt=1.0, update=false)(y(t)) = p₃₆ + p₃₈*(x(t)^2) + p₃₉*(x(t)^3) + p₄₀*(x(t)^4) + p₄₅*(y(t)^2) + p₄₈*(y(t)^3) + p₅₀*(y(t)^4) + p₃₇*x(t) + p₄₁*y(t) + p₅₁*z(t) + p₆₁*(z(t)^2) + p₆₇*(z(t)^3) + p₇₀*(z(t)^4) + p₄₆*(y(t)^2)*x(t) + p₄₂*x(t)*y(t) + p₄₇*(x(t)^2)*(y(t)^2) + p₄₉*(y(t)^3)*x(t) + p₆₂*(z(t)^2)*x(t) + p₆₃*(x(t)^2)*(z(t)^2) + p₆₈*(z(t)^3)*x(t) + p₄₃*(x(t)^2)*y(t) + p₆₉*(z(t)^3)*y(t) + p₅₃*(x(t)^2)*z(t) + p₄₄*(x(t)^3)*y(t) + p₅₄*(x(t)^3)*z(t) + p₆₀*(y(t)^3)*z(t) + p₅₂*x(t)*z(t) + p₅₅*y(t)*z(t) + p₅₈*(y(t)^2)*z(t) + p₆₄*(z(t)^2)*y(t) + p₆₆*(y(t)^2)*(z(t)^2) + p₆₅*(z(t)^2)*x(t)*y(t) + p₅₇*(x(t)^2)*y(t)*z(t) + p₅₆*x(t)*y(t)*z(t) + p₅₉*(y(t)^2)*x(t)*z(t)\n",
      "Difference(t; dt=1.0, update=false)(z(t)) = p₇₁ + p₇₃*(x(t)^2) + p₇₄*(x(t)^3) + p₇₅*(x(t)^4) + p₁₀₂*(z(t)^3) + p₁₀₅*(z(t)^4) + p₇₂*x(t) + p₇₆*y(t) + p₈₀*(y(t)^2) + p₈₃*(y(t)^3) + p₈₅*(y(t)^4) + p₈₆*z(t) + p₉₆*(z(t)^2) + p₇₈*(x(t)^2)*y(t) + p₁₀₁*(y(t)^2)*(z(t)^2) + p₈₈*(x(t)^2)*z(t) + p₈₁*(y(t)^2)*x(t) + p₁₀₃*(z(t)^3)*x(t) + p₁₀₄*(z(t)^3)*y(t) + p₇₇*x(t)*y(t) + p₇₉*(x(t)^3)*y(t) + p₈₂*(x(t)^2)*(y(t)^2) + p₈₉*(x(t)^3)*z(t) + p₉₃*(y(t)^2)*z(t) + p₉₅*(y(t)^3)*z(t) + p₉₀*y(t)*z(t) + p₉₈*(x(t)^2)*(z(t)^2) + p₈₄*(y(t)^3)*x(t) + p₈₇*x(t)*z(t) + p₉₇*(z(t)^2)*x(t) + p₉₉*(z(t)^2)*y(t) + p₁₀₀*(z(t)^2)*x(t)*y(t) + p₉₄*(y(t)^2)*x(t)*z(t) + p₉₂*(x(t)^2)*y(t)*z(t) + p₉₁*x(t)*y(t)*z(t)\n",
      "\n"
     ]
    },
    {
     "data": {
      "text/plain": [
       "27931.23"
      ]
     },
     "metadata": {},
     "output_type": "display_data"
    }
   ],
   "source": [
    "#shrink the dimensions to see if it is working\n",
    "#we have to make more basis variables\n",
    "x_sindy = X_vector[1:3,:]\n",
    "ddsol = train_SINDy(x_sindy, 4, 1e-1, 0)\n",
    "\n",
    "ddsol.prob.p[1]\n"
   ]
  },
  {
   "cell_type": "code",
   "execution_count": 30,
   "metadata": {},
   "outputs": [
    {
     "data": {
      "text/plain": [
       "DataDrivenSolution{Float64}"
      ]
     },
     "metadata": {},
     "output_type": "display_data"
    }
   ],
   "source": [
    "typeof(ddsol)"
   ]
  },
  {
   "cell_type": "code",
   "execution_count": 106,
   "metadata": {},
   "outputs": [
    {
     "data": {
      "text/plain": [
       "\"12\""
      ]
     },
     "metadata": {},
     "output_type": "display_data"
    }
   ],
   "source": [
    "#using Subscripts Package is not working, props gehen raus an https://github.com/HaoxuanGuo/Subscripts.jl/blob/main/src/Subscripts.jl\n",
    "super_chars = ['⁰', '¹', '²', '³', '⁴', '⁵', '⁶', '⁷', '⁸', '⁹']\n",
    "sub_chars = ['₀', '₁', '₂', '₃', '₄', '₅', '₆', '₇', '₈', '₉']\n",
    "function recover(s::String)\n",
    "    res = \"\"\n",
    "    for c in s\n",
    "        for i in 1:length(super_chars)\n",
    "            if c == super_chars[i] || c == sub_chars[i]\n",
    "                res *= '0' + i - 1\n",
    "            end\n",
    "        end\n",
    "    end\n",
    "    return res\n",
    "end"
   ]
  },
  {
   "cell_type": "code",
   "execution_count": 154,
   "metadata": {},
   "outputs": [
    {
     "data": {
      "text/plain": [
       "35-element Vector{Float64}:\n",
       "  27931.23\n",
       "   5692.99\n",
       "    164.84\n",
       "   2113.87\n",
       "  -8528.05\n",
       "    342.85\n",
       "    -69.84\n",
       "      3.82\n",
       "   1421.74\n",
       " -12075.77\n",
       "      ⋮\n",
       "    -45.39\n",
       "   -531.85\n",
       "  -2753.11\n",
       "    433.79\n",
       "  -4958.7\n",
       "    536.07\n",
       "   -225.64\n",
       "   2685.62\n",
       "   -355.86"
      ]
     },
     "metadata": {},
     "output_type": "display_data"
    }
   ],
   "source": [
    "ddsol.basis\n",
    "ddsol.prob.p  #perfect reconstruction if we set the ridge regression penalty to 0\n",
    "\n",
    "#ddsol.prob.p\n",
    "x,y,z = ddsol.basis\n",
    "a = split(string(x), \"+\")\n",
    "a[2]\n",
    "\n",
    "#muss für jeden String gemacht werden:\n",
    "#Beobachtung: jedes p_ besitzt genau einen Term dahinter -> ich kann nach diesen Suchen und vllt die kleinen Zahlen extrahieren\n",
    "# occursin(\"p\",a[2]) true and false\n",
    "\n",
    "#Verwendung von findall kann helfen auszuschließen, dass ausversehen mehrere p-Terme in einem Substring untergebracht sind \n",
    "#split(a[2],\"*\")\n",
    "str = a[2]\n",
    "#print(str)\n",
    "#index = findall(\"p\",str)\n",
    "findall.( x -> x .== 'p', a)\n",
    "#scheint IMMER an der zweiten Stelle zu sein, daraus könnte ich einen Test generieren\n",
    "\n",
    "#ignoriere den ersten Wert erstmal - MUSS noch hinzugefügt werden!!!\n",
    "n = length(a)\n",
    "param = ones(n)\n",
    "for i in 1:n\n",
    "    if i == 1\n",
    "        b = split(a[i], \"~\")\n",
    "        s = b[2][3:end]\n",
    "        var = recover(string(s))\n",
    "        param_nummer = parse(Int, var)\n",
    "        param[i] = ddsol.prob.p[param_nummer]\n",
    "    else\n",
    "        b = split(a[i], \"*\")\n",
    "        str = b[1][3:end]\n",
    "        var = recover(string(str))\n",
    "        param_nummer = parse(Int, var)\n",
    "        param[i] = ddsol.prob.p[param_nummer]\n",
    "    end\n",
    "end\n",
    "\n",
    "\n",
    "\n",
    "param\n",
    " \n",
    "#methods(x)\n",
    "#sol = solve(sol.prob, Tsit5())\n"
   ]
  },
  {
   "cell_type": "code",
   "execution_count": 144,
   "metadata": {},
   "outputs": [
    {
     "data": {
      "text/plain": [
       "35-element Vector{SubString{String}}:\n",
       " \"Difference(t; dt=1.0, update=false)(x(t)) ~ p₁ \"\n",
       " \" p₁₀*(y(t)^2) \"\n",
       " \" p₁₅*(y(t)^4) \"\n",
       " \" p₂₆*(z(t)^2) \"\n",
       " \" p₂*x(t) \"\n",
       " \" p₃*(x(t)^2) \"\n",
       " \" p₄*(x(t)^3) \"\n",
       " \" p₅*(x(t)^4) \"\n",
       " \" p₁₃*(y(t)^3) \"\n",
       " \" p₁₆*z(t) \"\n",
       " ⋮\n",
       " \" p₉*(x(t)^3)*y(t) \"\n",
       " \" p₁₈*(x(t)^2)*z(t) \"\n",
       " \" p₂₃*(y(t)^2)*z(t) \"\n",
       " \" p₃₁*(y(t)^2)*(z(t)^2) \"\n",
       " \" p₇*x(t)*y(t) \"\n",
       " \" p₂₄*(y(t)^2)*x(t)*z(t) \"\n",
       " \" p₂₂*(x(t)^2)*y(t)*z(t) \"\n",
       " \" p₂₁*x(t)*y(t)*z(t) \"\n",
       " \" p₃₀*(z(t)^2)*x(t)*y(t)\""
      ]
     },
     "metadata": {},
     "output_type": "display_data"
    }
   ],
   "source": [
    "a"
   ]
  },
  {
   "cell_type": "code",
   "execution_count": 43,
   "metadata": {},
   "outputs": [
    {
     "ename": "MethodError",
     "evalue": "MethodError: no method matching init(::DataDrivenProblem{Float64, false, DataDrivenDiffEq.Discrete}, ::Tsit5{Static.False,…})\n\nSome of the types have been truncated in the stacktrace for improved reading. To emit complete information\nin the stack trace, evaluate `TruncatedStacktraces.VERBOSE[] = true` and re-run the code.\n\nClosest candidates are:\n  init(!Matched::PDEProblem, ::SciMLBase.AbstractDEAlgorithm, !Matched::Any...; kwargs...) at ~/.julia/packages/DiffEqBase/JH4gt/src/solve.jl:1011\n  init(!Matched::OptimizationProblem, ::Any, !Matched::Any...; kwargs...) at ~/.julia/packages/SciMLBase/gTrkJ/src/solve.jl:145\n  init(::DataDrivenDiffEq.AbstractDataDrivenProblem, !Matched::DataDrivenDiffEq.AbstractBasis) at ~/.julia/packages/DataDrivenDiffEq/Z5a34/src/commonsolve.jl:50\n  ...",
     "output_type": "error",
     "traceback": [
      "MethodError: no method matching init(::DataDrivenProblem{Float64, false, DataDrivenDiffEq.Discrete}, ::Tsit5{Static.False,…})\n",
      "\n",
      "Some of the types have been truncated in the stacktrace for improved reading. To emit complete information\n",
      "in the stack trace, evaluate `TruncatedStacktraces.VERBOSE[] = true` and re-run the code.\n",
      "\n",
      "Closest candidates are:\n",
      "  init(!Matched::PDEProblem, ::SciMLBase.AbstractDEAlgorithm, !Matched::Any...; kwargs...) at ~/.julia/packages/DiffEqBase/JH4gt/src/solve.jl:1011\n",
      "  init(!Matched::OptimizationProblem, ::Any, !Matched::Any...; kwargs...) at ~/.julia/packages/SciMLBase/gTrkJ/src/solve.jl:145\n",
      "  init(::DataDrivenDiffEq.AbstractDataDrivenProblem, !Matched::DataDrivenDiffEq.AbstractBasis) at ~/.julia/packages/DataDrivenDiffEq/Z5a34/src/commonsolve.jl:50\n",
      "  ...\n",
      "\n",
      "Stacktrace:\n",
      " [1] solve(::DataDrivenProblem{Float64, false, DataDrivenDiffEq.Discrete}, ::Vararg{Any}; kwargs::Base.Pairs{Symbol, Union{}, Tuple{}, NamedTuple{(), Tuple{}}})\n",
      "   @ CommonSolve ~/.julia/packages/CommonSolve/u9cNO/src/CommonSolve.jl:23\n",
      " [2] solve(::DataDrivenProblem{Float64, false, DataDrivenDiffEq.Discrete}, ::Tsit5{Static.False,…})\n",
      "   @ CommonSolve ~/.julia/packages/CommonSolve/u9cNO/src/CommonSolve.jl:23\n",
      " [3] top-level scope\n",
      "   @ ~/Documents/GitHub/compare_ML_DynamicalSystem/MMLDS_project/src/SINDy_El_Nino.ipynb:1"
     ]
    }
   ],
   "source": [
    "sol = solve(ddsol.prob, Tsit5())\n",
    "\n",
    "plot(x_sindy, idxs=[1], tspan=(0, 5), label=\"El Nino Data\", title=\"on training data\")\n",
    "plot!(sol, idxs=[1], tspan=(0, 5), label=\"SINDy\")\n",
    "\n",
    "plot(x_sindy, idxs=[1], tspan=(50, 100), label=\"El Nino Data\", title=\"on validation data\")\n",
    "plot!(sol, idxs=[1], tspan=(50, 100), label=\"SINDy\")"
   ]
  }
 ],
 "metadata": {
  "kernelspec": {
   "display_name": "Julia 1.8.5",
   "language": "julia",
   "name": "julia-1.8"
  },
  "language_info": {
   "file_extension": ".jl",
   "mimetype": "application/julia",
   "name": "julia",
   "version": "1.8.5"
  },
  "orig_nbformat": 4
 },
 "nbformat": 4,
 "nbformat_minor": 2
}
