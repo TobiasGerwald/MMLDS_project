{
 "cells": [
  {
   "cell_type": "code",
   "execution_count": 56,
   "metadata": {},
   "outputs": [
    {
     "name": "stderr",
     "output_type": "stream",
     "text": [
      "\u001b[32m\u001b[1m  Activating\u001b[22m\u001b[39m project at `~/Documents/GitHub/compare_ML_DynamicalSystem/MMLDS_project/src/MMLDS_project`\n"
     ]
    }
   ],
   "source": [
    "import Pkg\n",
    "Pkg.activate(\"MMLDS_project\")\n",
    "\n",
    "#SINDy\n",
    "#Pkg.add(\"DataDrivenDiffEq\")\n",
    "#Pkg.add(\"DataDrivenSparse\")\n",
    "#Pkg.add(\"Subscripts\")\n",
    "\n",
    "#RESERVOIR \n",
    "#Pkg.update()\n",
    "#Pkg.instantiate()\n",
    "#Pkg.add(\"ProgressMeter\")\n",
    "#Pkg.add(\"DynamicalSystems\")\n",
    "#Pkg.add(\"ReservoirComputing\")\n",
    "#Pkg.add(\"Plots\")\n",
    "#Pkg.add(\"Printf\")\n",
    "#Pkg.add(\"DifferentialEquations\")\n",
    "#Pkg.add(\"OrdinaryDiffEq\")\n",
    "#Pkg.add(\"NetCDF\")\n",
    "#Pkg.add(\"JLD2\")\n",
    "\n",
    "#SINDy\n",
    "using DataDrivenDiffEq\n",
    "using DataDrivenSparse\n",
    "using Subscripts #not working yet, took part of the code\n",
    "\n",
    "#RESERVOIR\n",
    "using ProgressMeter\n",
    "using DynamicalSystems, ReservoirComputing, Plots, Printf\n",
    "using DifferentialEquations\n",
    "using OrdinaryDiffEq\n",
    "using NetCDF\n",
    "using JLD2"
   ]
  },
  {
   "cell_type": "code",
   "execution_count": 57,
   "metadata": {},
   "outputs": [
    {
     "data": {
      "text/plain": [
       "train_SINDy (generic function with 3 methods)"
      ]
     },
     "metadata": {},
     "output_type": "display_data"
    }
   ],
   "source": [
    "include(\"data.jl\")\n",
    "include(\"SINDy.jl\")"
   ]
  },
  {
   "attachments": {},
   "cell_type": "markdown",
   "metadata": {},
   "source": [
    "### Helper functions"
   ]
  },
  {
   "cell_type": "code",
   "execution_count": 73,
   "metadata": {},
   "outputs": [
    {
     "data": {
      "text/plain": [
       "recover (generic function with 1 method)"
      ]
     },
     "metadata": {},
     "output_type": "display_data"
    }
   ],
   "source": [
    "#using Subscripts Package is not working, props gehen raus an https://github.com/HaoxuanGuo/Subscripts.jl/blob/main/src/Subscripts.jl\n",
    "super_chars = ['⁰', '¹', '²', '³', '⁴', '⁵', '⁶', '⁷', '⁸', '⁹']\n",
    "sub_chars = ['₀', '₁', '₂', '₃', '₄', '₅', '₆', '₇', '₈', '₉']\n",
    "\n",
    "function sub(s)\n",
    "    res = \"\"\n",
    "    for c in s\n",
    "        if c >= '0' && c <= '9'\n",
    "            res *= sub_chars[c - '0' + 1]\n",
    "        end\n",
    "    end\n",
    "    return res\n",
    "end\n",
    "\n",
    "function recover(s::String)\n",
    "    res = \"\"\n",
    "    for c in s\n",
    "        for i in 1:length(super_chars)\n",
    "            if c == super_chars[i] || c == sub_chars[i]\n",
    "                res *= '0' + i - 1\n",
    "            end\n",
    "        end\n",
    "    end\n",
    "    return res\n",
    "end"
   ]
  },
  {
   "cell_type": "code",
   "execution_count": 58,
   "metadata": {},
   "outputs": [
    {
     "data": {
      "text/plain": [
       "20×2040 Matrix{Float64}:\n",
       " 28.0325  27.8742  28.1076  28.688   …  28.621   29.4195  29.5172  29.0083\n",
       " 28.2426  28.2316  28.488   28.9117     28.3489  29.3835  29.6865  29.3908\n",
       " 28.5179  28.6131  28.8473  29.1355     28.6434  29.723   29.7411  29.3795\n",
       " 28.84    28.8382  29.0742  29.1841     29.4347  30.2484  29.8994  29.4668\n",
       " 29.023   28.9616  29.1702  29.2372     29.4146  30.2277  29.8914  29.5535\n",
       " 29.1572  29.1256  29.2598  29.2776  …  29.7037  30.4001  30.031   29.7284\n",
       " 29.1264  29.117   29.196   29.2381     29.8099  30.4189  30.0984  29.8489\n",
       " 28.9993  29.0324  29.076   29.1209     30.1048  30.5088  30.2152  29.9283\n",
       " 28.7191  28.7542  28.6979  28.8395     30.32    30.6631  30.3864  30.0508\n",
       " 28.4407  28.3725  28.2181  28.6071     30.32    30.5643  30.4019  30.1978\n",
       " 28.7257  28.5573  28.5916  28.9932  …  27.2255  28.4254  29.3495  29.8018\n",
       " 28.7958  28.7403  28.7715  29.102      26.6425  28.0568  29.141   29.8132\n",
       " 28.8938  28.9374  28.9322  29.1185     27.5829  28.7421  29.3249  29.7972\n",
       " 28.8633  28.9983  29.0224  29.1447     29.0611  29.7091  29.5228  29.6685\n",
       " 28.7771  28.9013  29.0346  29.0734     29.1806  29.9763  29.6906  29.6626\n",
       " 29.029   29.1433  29.2485  29.2583  …  29.1547  29.9691  29.676   29.8036\n",
       " 29.3668  29.4022  29.4523  29.3927     29.702   30.424   30.0788  30.2832\n",
       " 29.2807  29.2732  29.3121  29.2985     30.0934  30.6224  30.2738  30.4604\n",
       " 29.0902  29.0125  29.022   29.0925     30.4542  30.9208  30.6285  30.6144\n",
       " 28.8026  28.662   28.6716  28.8634     30.4046  30.8168  30.6959  30.7104"
      ]
     },
     "metadata": {},
     "output_type": "display_data"
    }
   ],
   "source": [
    "#Loading and changing El Nino Data\n",
    "path_to_data = \"sst.mon.mean.nc\"\n",
    "\n",
    "x = ncread(path_to_data, \"sst\") #sst = Sea Surface Temperature\n",
    "x_reduced = x[121:170, 86:95, :] #only concerned with the important region for the El Nino happening\n",
    "\n",
    "X_vector = compress_data_matrix(x_reduced, 5, false, true)"
   ]
  },
  {
   "attachments": {},
   "cell_type": "markdown",
   "metadata": {},
   "source": [
    "### test cases\n",
    "\n",
    "#### learn only on one coordinate\n",
    "#### use more basis functions\n",
    "#### SINDy dependent on scaling factors?"
   ]
  },
  {
   "cell_type": "code",
   "execution_count": 108,
   "metadata": {},
   "outputs": [
    {
     "data": {
      "text/plain": [
       "train_SINDy (generic function with 3 methods)"
      ]
     },
     "metadata": {},
     "output_type": "display_data"
    }
   ],
   "source": [
    "function train_SINDy(ode_sol, n, threshold=1e-1, λ=1e-1)\n",
    "    \n",
    "    ddprob = DataDrivenProblem(ode_sol)\n",
    "    \n",
    "    @variables t x(t) y(t) z(t)  # Symbolic variables\n",
    "    u = [x, y, z]\n",
    "    #basis = Basis([polynomial_basis(u, n),sin_basis(u, 4), cos_basis(u, 4)], u, iv = t)\n",
    "    basis = Basis(sin_basis(u, 4), u, iv = t)\n",
    "     \n",
    "    optimiser = STLSQ(threshold, λ) #sparsity cut off threshold, Ridge regression parameter\n",
    "\n",
    "    ddsol = solve(ddprob, basis, optimiser, options = DataDrivenCommonOptions(digits = 2))\n",
    "    println(get_basis(ddsol))\n",
    "\n",
    "    return ddsol\n",
    "\n",
    "end"
   ]
  },
  {
   "cell_type": "code",
   "execution_count": 109,
   "metadata": {},
   "outputs": [
    {
     "name": "stdout",
     "output_type": "stream",
     "text": [
      "\u001b[0m\u001b[1mModel ##Basis#375 with 3 equations\u001b[22m\n",
      "States : x(t) y(t) z(t)\n",
      "Parameters : 36\n",
      "Independent variable: t\n",
      "Equations\n",
      "Difference(t; dt=1.0, update=false)(x(t)) = p₁₀*sin(4x(t)) + p₁₁*sin(4y(t)) + p₁₂*sin(4z(t)) + p₁*sin(x(t)) + p₂*sin(y(t)) + p₃*sin(z(t)) + p₄*sin(2x(t)) + p₇*sin(3x(t)) + p₅*sin(2y(t)) + p₆*sin(2z(t)) + p₈*sin(3y(t)) + p₉*sin(3z(t))\n",
      "Difference(t; dt=1.0, update=false)(y(t)) = p₁₆*sin(2x(t)) + p₁₉*sin(3x(t)) + p₁₃*sin(x(t)) + p₁₄*sin(y(t)) + p₁₇*sin(2y(t)) + p₂₀*sin(3y(t)) + p₁₅*sin(z(t)) + p₂₂*sin(4x(t)) + p₂₃*sin(4y(t)) + p₁₈*sin(2z(t)) + p₂₁*sin(3z(t)) + p₂₄*sin(4z(t))\n",
      "Difference(t; dt=1.0, update=false)(z(t)) = p₂₈*sin(2x(t)) + p₂₅*sin(x(t)) + p₃₁*sin(3x(t)) + p₃₄*sin(4x(t)) + p₂₉*sin(2y(t)) + p₃₂*sin(3y(t)) + p₃₅*sin(4y(t)) + p₃₀*sin(2z(t)) + p₃₃*sin(3z(t)) + p₃₆*sin(4z(t)) + p₂₆*sin(y(t)) + p₂₇*sin(z(t))\n",
      "\n"
     ]
    },
    {
     "data": {
      "text/plain": [
       "-13.08"
      ]
     },
     "metadata": {},
     "output_type": "display_data"
    }
   ],
   "source": [
    "#shrink the dimensions to see if it is working\n",
    "#we have to make more basis variables\n",
    "x_sindy = X_vector[1:3,:]\n",
    "ddsol = train_SINDy(x_sindy, 4, 1e-1, 0)\n",
    "\n",
    "ddsol.prob.p[1]\n"
   ]
  },
  {
   "cell_type": "code",
   "execution_count": 112,
   "metadata": {},
   "outputs": [
    {
     "name": "stdout",
     "output_type": "stream",
     "text": [
      "(y) = p[16]*sin(2x) + p[19]*sin(3x) + p[13]*sin(x) + p[14]*sin(y) + p[17]*sin(2y) + p[20]*sin(3y) + p[15]*sin(z) + p[22]*sin(4x) + p[23]*sin(4y) + p[18]*sin(2z) + p[21]*sin(3z) + p[24]*sin(4z)"
     ]
    }
   ],
   "source": [
    "#this has to be done by hand right now\n",
    "\n",
    "x,y,z = ddsol.basis\n",
    "#print(x)\n",
    "x_truncated = replace(string(y), \"(t)\" => \"\")\n",
    "x_truncated = replace(x_truncated, \"Difference(t; dt=1.0, update=false)\" => \"\")\n",
    "x_truncated = replace(x_truncated, \"~\" => \"=\")\n",
    "#x_truncated = replace(x_truncated, \"₁\" => \"[\"*string(1)*\"]\")\n",
    "for i in length(ddsol.prob.p):-1:1\n",
    "    number = string(i)\n",
    "    sub_number = sub(number)\n",
    "    s = \"[\"*string(i)*\"]\"\n",
    "    x_truncated = replace(x_truncated, sub_number => \"[\" * string(i) * \"]\")\n",
    "end\n",
    "print(x_truncated)"
   ]
  },
  {
   "attachments": {},
   "cell_type": "markdown",
   "metadata": {},
   "source": [
    "### Last step to this one has to be done by hand for every equation for now"
   ]
  },
  {
   "cell_type": "code",
   "execution_count": 117,
   "metadata": {},
   "outputs": [
    {
     "name": "stderr",
     "output_type": "stream",
     "text": [
      "┌ Warning: dt(1.4210854715202004e-14) <= dtmin(1.4210854715202004e-14) at t=1.3069985477944173. Aborting. There is either an error in your model specification or the true solution is unstable.\n",
      "└ @ SciMLBase /home/tom/.julia/packages/SciMLBase/gTrkJ/src/integrator_interface.jl:529\n"
     ]
    },
    {
     "name": "stdout",
     "output_type": "stream",
     "text": [
      "ODESolution{Float64, 2, Vector{Vector{Float64}}, Nothing, Nothing, Vector{Float64}, Vector{Vector{Vector{Float64}}}, ODEProblem{false,Vector{Float64},Tuple{Float64, Float64},…}, Tsit5{Static.False,…}, OrdinaryDiffEq.InterpolationData{"
     ]
    },
    {
     "name": "stdout",
     "output_type": "stream",
     "text": [
      "ODEFunction{false,SciMLBase.AutoSpecialize,…}, Vector{Vector{Float64}}, Vector{Float64}, Vector{Vector{Vector{Float64}}}, OrdinaryDiffEq.Tsit5ConstantCache}, DiffEqBase.DEStats, Nothing}("
     ]
    },
    {
     "name": "stdout",
     "output_type": "stream",
     "text": [
      "[[28.032480239868164, 28.24264144897461, 28.517921447753906]], nothing, nothing, [1.0], "
     ]
    },
    {
     "name": "stdout",
     "output_type": "stream",
     "text": [
      "[[[28.032480239868164, 28.24264144897461, 28.517921447753906]]], "
     ]
    },
    {
     "name": "stdout",
     "output_type": "stream",
     "text": [
      "ODEProblem{false,Vector{Float64},Tuple{Float64, Float64},…}("
     ]
    },
    {
     "name": "stdout",
     "output_type": "stream",
     "text": [
      "ODEFunction{false,SciMLBase.AutoSpecialize,…}(lorenz, "
     ]
    },
    {
     "name": "stdout",
     "output_type": "stream",
     "text": [
      "LinearAlgebra.UniformScaling{Bool}(true), nothing, nothing, nothing, nothing, nothing, nothing, nothing, nothing, nothing, nothing, nothing, nothing, nothing, SciMLBase.DEFAULT_OBSERVED, nothing, nothing), [28.032480239868164, 28.24264144897461, 28.517921447753906], (1.0, 100.0), [-13.08, 111.25, -116.0, -13.21, 45.88, -19.82, -9.48, 46.14, -25.47, -3.15, 14.5, -11.53, -11.67, 109.81, -116.04, -12.7, 45.37, -19.86, -9.31, 46.0, -25.51, -3.08, 14.46, -11.55, -11.66, 111.16, -117.52, -12.74, 45.84, -20.35, -9.33, 46.22, -25.74, -3.1, 14.51, -11.62], Base.Pairs{Symbol, Union{}, Tuple{}, NamedTuple{(), Tuple{}}}"
     ]
    },
    {
     "name": "stdout",
     "output_type": "stream",
     "text": [
      "(), SciMLBase"
     ]
    },
    {
     "name": "stdout",
     "output_type": "stream",
     "text": [
      ".StandardODEProblem()), Tsit5(stage_limiter! = trivial_limiter!, step_limiter! = trivial_limiter!, thread = static(false)"
     ]
    },
    {
     "name": "stdout",
     "output_type": "stream",
     "text": [
      "), "
     ]
    },
    {
     "name": "stdout",
     "output_type": "stream",
     "text": [
      "OrdinaryDiffEq.InterpolationData{ODEFunction{false,SciMLBase.AutoSpecialize,…}, Vector{Vector{Float64}}, Vector{Float64}, Vector{Vector{Vector{Float64}}}, OrdinaryDiffEq.Tsit5ConstantCache}(ODEFunction{false,SciMLBase.AutoSpecialize,…}(lorenz, LinearAlgebra.UniformScaling{Bool}(true), nothing, nothing, nothing, nothing, nothing, nothing, nothing, nothing, nothing, nothing, nothing, nothing, nothing, SciMLBase.DEFAULT_OBSERVED, nothing, nothing), [[28.032480239868164, 28.24264144897461, 28.517921447753906]], [1.0], [[[28.032480239868164, 28.24264144897461, 28.517921447753906]]], false, "
     ]
    },
    {
     "name": "stdout",
     "output_type": "stream",
     "text": [
      "OrdinaryDiffEq.Tsit5ConstantCache()), false, 0, DiffEqBase.DEStats"
     ]
    },
    {
     "name": "stdout",
     "output_type": "stream",
     "text": [
      "\n",
      "Number of function 1 evaluations:                  2074005\n",
      "Number of function 2 evaluations:                  0\n",
      "Number of W matrix evaluations:                    0\n",
      "Number of linear solves:                           0\n",
      "Number of Jacobians created:                       0\n",
      "Number of nonlinear solver iterations:             0\n",
      "Number of nonlinear solver convergence failures:   0\n",
      "Number of rootfind condition calls:                0\n",
      "Number of accepted steps:                          345553\n",
      "Number of rejected steps:                          114, nothing, SciMLBase.ReturnCode.DtLessThanMin)"
     ]
    }
   ],
   "source": [
    "#create diffeq from SINDy output\n",
    "function SINDy_found_function(u,p,t)\n",
    "    x, y, z = u\n",
    "    dx = p[10]*sin(4x) + p[11]*sin(4y) + p[12]*sin(4z) + p[1]*sin(x) + p[2]*sin(y) + p[3]*sin(z) + p[4]*sin(2x) + p[7]*sin(3x) + p[5]*sin(2y) + p[6]*sin(2z) + p[8]*sin(3y) + p[9]*sin(3z)    \n",
    "    dy = p[16]*sin(2x) + p[19]*sin(3x) + p[13]*sin(x) + p[14]*sin(y) + p[17]*sin(2y) + p[20]*sin(3y) + p[15]*sin(z) + p[22]*sin(4x) + p[23]*sin(4y) + p[18]*sin(2z) + p[21]*sin(3z) + p[24]*sin(4z)    \n",
    "    dz = p[28]*sin(2x) + p[25]*sin(x) + p[31]*sin(3x) + p[34]*sin(4x) + p[29]*sin(2y) + p[32]*sin(3y) + p[35]*sin(4y) + p[30]*sin(2z) + p[33]*sin(3z) + p[36]*sin(4z) + p[26]*sin(y) + p[27]*sin(z)    \n",
    "    return [dx, dy, dz]\n",
    "end\n",
    "\n",
    "function create_SINDy_trajectory(x0 = [1.,1.,1.],dt = 1, tstart = 1., tend = 100.)\n",
    "\n",
    "    p_SINDy = ddsol.prob.p\n",
    "    tspan = (tstart, tend)\n",
    "    saveat = tstart:dt:tend\n",
    "    x0 = X_vector[1:3,1]\n",
    "\n",
    "    prob = ODEProblem(lorenz, x0, tspan, p_SINDy) \n",
    "    sol = solve(prob, Tsit5(), saveat=saveat)\n",
    "\n",
    "    return sol\n",
    "end\n",
    "\n",
    "sol = create_SINDy_trajectory()\n",
    "print(sol)\n"
   ]
  },
  {
   "cell_type": "code",
   "execution_count": 116,
   "metadata": {},
   "outputs": [
    {
     "ename": "BoundsError",
     "evalue": "BoundsError: attempt to access 1-element Vector{Vector{Float64}} at index [2]\n\nSome of the types have been truncated in the stacktrace for improved reading. To emit complete information\nin the stack trace, evaluate `TruncatedStacktraces.VERBOSE[] = true` and re-run the code.\n",
     "output_type": "error",
     "traceback": [
      "BoundsError: attempt to access 1-element Vector{Vector{Float64}} at index [2]\n",
      "\n",
      "Some of the types have been truncated in the stacktrace for improved reading. To emit complete information\n",
      "in the stack trace, evaluate `TruncatedStacktraces.VERBOSE[] = true` and re-run the code.\n",
      "\n",
      "\n",
      "Stacktrace:\n",
      " [1] getindex\n",
      "   @ ./array.jl:924 [inlined]\n",
      " [2] #452\n",
      "   @ ./none:0 [inlined]\n",
      " [3] iterate\n",
      "   @ ./generator.jl:47 [inlined]\n",
      " [4] collect_to!\n",
      "   @ ./array.jl:845 [inlined]\n",
      " [5] collect_to_with_first!\n",
      "   @ ./array.jl:823 [inlined]\n",
      " [6] collect(itr::Base.Generator{UnitRange{Int64}, SciMLBase.var\"#452#453\"{ODESolution{Float64, 2, Vector{Vector{Float64}}, Nothing, Nothing, Vector{Float64}, Vector{Vector{Vector{Float64}}}, ODEProblem{false,Vector{Float64},Tuple{Float64, Float64},…}, Tsit5{Static.False,…}, OrdinaryDiffEq.InterpolationData{ODEFunction{false,SciMLBase.AutoSpecialize,…}, Vector{Vector{Float64}}, Vector{Float64}, Vector{Vector{Vector{Float64}}}, OrdinaryDiffEq.Tsit5ConstantCache}, DiffEqBase.DEStats, Nothing}, Int64}})\n",
      "   @ Base ./array.jl:797\n",
      " [7] getindex(A::ODESolution{Float64, 2, Vector{Vector{Float64}}, Nothing, Nothing, Vector{Float64}, Vector{Vector{Vector{Float64}}}, ODEProblem{false,Vector{Float64},Tuple{Float64, Float64},…}, Tsit5{Static.False,…}, OrdinaryDiffEq.InterpolationData{ODEFunction{false,SciMLBase.AutoSpecialize,…}, Vector{Vector{Float64}}, Vector{Float64}, Vector{Vector{Vector{Float64}}}, OrdinaryDiffEq.Tsit5ConstantCache}, DiffEqBase.DEStats, Nothing}, i::Int64, II::UnitRange{Int64})\n",
      "   @ SciMLBase ~/.julia/packages/SciMLBase/gTrkJ/src/solutions/solution_interface.jl:61\n",
      " [8] top-level scope\n",
      "   @ ~/Documents/GitHub/compare_ML_DynamicalSystem/MMLDS_project/src/SINDy_El_Nino.ipynb:1"
     ]
    }
   ],
   "source": [
    "sol[1,1:100]"
   ]
  },
  {
   "cell_type": "code",
   "execution_count": 118,
   "metadata": {},
   "outputs": [
    {
     "ename": "BoundsError",
     "evalue": "BoundsError: attempt to access 1-element Vector{Vector{Float64}} at index [2]\n\nSome of the types have been truncated in the stacktrace for improved reading. To emit complete information\nin the stack trace, evaluate `TruncatedStacktraces.VERBOSE[] = true` and re-run the code.\n",
     "output_type": "error",
     "traceback": [
      "BoundsError: attempt to access 1-element Vector{Vector{Float64}} at index [2]\n",
      "\n",
      "Some of the types have been truncated in the stacktrace for improved reading. To emit complete information\n",
      "in the stack trace, evaluate `TruncatedStacktraces.VERBOSE[] = true` and re-run the code.\n",
      "\n",
      "\n",
      "Stacktrace:\n",
      " [1] getindex\n",
      "   @ ./array.jl:924 [inlined]\n",
      " [2] #452\n",
      "   @ ./none:0 [inlined]\n",
      " [3] iterate\n",
      "   @ ./generator.jl:47 [inlined]\n",
      " [4] collect_to!\n",
      "   @ ./array.jl:845 [inlined]\n",
      " [5] collect_to_with_first!\n",
      "   @ ./array.jl:823 [inlined]\n",
      " [6] collect(itr::Base.Generator{UnitRange{Int64}, SciMLBase.var\"#452#453\"{ODESolution{Float64, 2, Vector{Vector{Float64}}, Nothing, Nothing, Vector{Float64}, Vector{Vector{Vector{Float64}}}, ODEProblem{false,Vector{Float64},Tuple{Float64, Float64},…}, Tsit5{Static.False,…}, OrdinaryDiffEq.InterpolationData{ODEFunction{false,SciMLBase.AutoSpecialize,…}, Vector{Vector{Float64}}, Vector{Float64}, Vector{Vector{Vector{Float64}}}, OrdinaryDiffEq.Tsit5ConstantCache}, DiffEqBase.DEStats, Nothing}, Int64}})\n",
      "   @ Base ./array.jl:797\n",
      " [7] getindex(A::ODESolution{Float64, 2, Vector{Vector{Float64}}, Nothing, Nothing, Vector{Float64}, Vector{Vector{Vector{Float64}}}, ODEProblem{false,Vector{Float64},Tuple{Float64, Float64},…}, Tsit5{Static.False,…}, OrdinaryDiffEq.InterpolationData{ODEFunction{false,SciMLBase.AutoSpecialize,…}, Vector{Vector{Float64}}, Vector{Float64}, Vector{Vector{Vector{Float64}}}, OrdinaryDiffEq.Tsit5ConstantCache}, DiffEqBase.DEStats, Nothing}, i::Int64, II::UnitRange{Int64})\n",
      "   @ SciMLBase ~/.julia/packages/SciMLBase/gTrkJ/src/solutions/solution_interface.jl:61\n",
      " [8] top-level scope\n",
      "   @ ~/Documents/GitHub/compare_ML_DynamicalSystem/MMLDS_project/src/SINDy_El_Nino.ipynb:6"
     ]
    }
   ],
   "source": [
    "savePath = \"/home/tom/Documents/GitHub/compare_ML_DynamicalSystem/MMLDS_project/Plots/SINDy/\"\n",
    "\n",
    "for i in 1:3\n",
    "    i_data = X_vector[i, 1:100]\n",
    "    p = plot(i_data, idxs=[1], tspan=(0, 100), label=\"El Nino Data\", title=\"on real world data\")\n",
    "    p = plot!(sol[i,1:100], idxs=[1], tspan=(0, 100), label=\"SINDy\")\n",
    "    saveEnding = string(i)\n",
    "    savePath = savePath* string(saveEnding)*\".png\" \n",
    "    savefig(p, savePath)\n",
    "end\n"
   ]
  }
 ],
 "metadata": {
  "kernelspec": {
   "display_name": "Julia 1.8.5",
   "language": "julia",
   "name": "julia-1.8"
  },
  "language_info": {
   "file_extension": ".jl",
   "mimetype": "application/julia",
   "name": "julia",
   "version": "1.8.5"
  },
  "orig_nbformat": 4
 },
 "nbformat": 4,
 "nbformat_minor": 2
}
