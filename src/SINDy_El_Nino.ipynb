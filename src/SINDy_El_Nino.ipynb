{
 "cells": [
  {
   "cell_type": "code",
   "execution_count": 1,
   "metadata": {},
   "outputs": [
    {
     "name": "stderr",
     "output_type": "stream",
     "text": [
      "\u001b[32m\u001b[1m  Activating\u001b[22m\u001b[39m project at `c:\\Users\\tomfi\\Desktop\\Uni\\3M_semester\\Project_MMLDS\\MMLDS_2\\MMLDS_project\\src\\MMLDS_project`"
     ]
    },
    {
     "name": "stderr",
     "output_type": "stream",
     "text": [
      "\n"
     ]
    }
   ],
   "source": [
    "import Pkg\n",
    "Pkg.activate(\"MMLDS_project\")\n",
    "\n",
    "#SINDy\n",
    "#Pkg.add(\"DataDrivenDiffEq\")\n",
    "#Pkg.add(\"DataDrivenSparse\")\n",
    "#Pkg.add(\"Subscripts\")\n",
    "\n",
    "#RESERVOIR \n",
    "#Pkg.update()\n",
    "#Pkg.instantiate()\n",
    "#Pkg.add(\"ProgressMeter\")\n",
    "#Pkg.add(\"DynamicalSystems\")\n",
    "#Pkg.add(\"ReservoirComputing\")\n",
    "#Pkg.add(\"Plots\")\n",
    "#Pkg.add(\"Printf\")\n",
    "#Pkg.add(\"DifferentialEquations\")\n",
    "#Pkg.add(\"OrdinaryDiffEq\")\n",
    "#Pkg.add(\"NetCDF\")\n",
    "#Pkg.add(\"JLD2\")\n",
    "\n",
    "#SINDy\n",
    "using DataDrivenDiffEq\n",
    "using DataDrivenSparse\n",
    "using Subscripts #not working yet, took part of the code\n",
    "\n",
    "#RESERVOIR\n",
    "using ProgressMeter\n",
    "using DynamicalSystems, ReservoirComputing, Plots, Printf\n",
    "using DifferentialEquations\n",
    "using OrdinaryDiffEq\n",
    "using NetCDF\n",
    "using JLD2"
   ]
  },
  {
   "cell_type": "code",
   "execution_count": 2,
   "metadata": {},
   "outputs": [
    {
     "data": {
      "text/plain": [
       "train_SINDy (generic function with 3 methods)"
      ]
     },
     "metadata": {},
     "output_type": "display_data"
    }
   ],
   "source": [
    "include(\"data.jl\")\n",
    "include(\"SINDy.jl\")"
   ]
  },
  {
   "attachments": {},
   "cell_type": "markdown",
   "metadata": {},
   "source": [
    "### Helper functions"
   ]
  },
  {
   "cell_type": "code",
   "execution_count": 3,
   "metadata": {},
   "outputs": [
    {
     "data": {
      "text/plain": [
       "recover (generic function with 1 method)"
      ]
     },
     "metadata": {},
     "output_type": "display_data"
    }
   ],
   "source": [
    "#using Subscripts Package is not working, props gehen raus an https://github.com/HaoxuanGuo/Subscripts.jl/blob/main/src/Subscripts.jl\n",
    "super_chars = ['⁰', '¹', '²', '³', '⁴', '⁵', '⁶', '⁷', '⁸', '⁹']\n",
    "sub_chars = ['₀', '₁', '₂', '₃', '₄', '₅', '₆', '₇', '₈', '₉']\n",
    "\n",
    "function sub(s)\n",
    "    res = \"\"\n",
    "    for c in s\n",
    "        if c >= '0' && c <= '9'\n",
    "            res *= sub_chars[c - '0' + 1]\n",
    "        end\n",
    "    end\n",
    "    return res\n",
    "end\n",
    "\n",
    "function recover(s::String)\n",
    "    res = \"\"\n",
    "    for c in s\n",
    "        for i in 1:length(super_chars)\n",
    "            if c == super_chars[i] || c == sub_chars[i]\n",
    "                res *= '0' + i - 1\n",
    "            end\n",
    "        end\n",
    "    end\n",
    "    return res\n",
    "end"
   ]
  },
  {
   "cell_type": "code",
   "execution_count": 4,
   "metadata": {},
   "outputs": [
    {
     "data": {
      "text/plain": [
       "20×2040 Matrix{Float64}:\n",
       " 28.0325  27.8742  28.1076  28.688   …  28.621   29.4195  29.5172  29.0083\n",
       " 28.2426  28.2316  28.488   28.9117     28.3489  29.3835  29.6865  29.3908\n",
       " 28.5179  28.6131  28.8473  29.1355     28.6434  29.723   29.7411  29.3795\n",
       " 28.84    28.8382  29.0742  29.1841     29.4347  30.2484  29.8994  29.4668\n",
       " 29.023   28.9616  29.1702  29.2372     29.4146  30.2277  29.8914  29.5535\n",
       " 29.1572  29.1256  29.2598  29.2776  …  29.7037  30.4001  30.031   29.7284\n",
       " 29.1264  29.117   29.196   29.2381     29.8099  30.4189  30.0984  29.8489\n",
       " 28.9993  29.0324  29.076   29.1209     30.1048  30.5088  30.2152  29.9283\n",
       " 28.7191  28.7542  28.6979  28.8395     30.32    30.6631  30.3864  30.0508\n",
       " 28.4407  28.3725  28.2181  28.6071     30.32    30.5643  30.4019  30.1978\n",
       " 28.7257  28.5573  28.5916  28.9932  …  27.2255  28.4254  29.3495  29.8018\n",
       " 28.7958  28.7403  28.7715  29.102      26.6425  28.0568  29.141   29.8132\n",
       " 28.8938  28.9374  28.9322  29.1185     27.5829  28.7421  29.3249  29.7972\n",
       " 28.8633  28.9983  29.0224  29.1447     29.0611  29.7091  29.5228  29.6685\n",
       " 28.7771  28.9013  29.0346  29.0734     29.1806  29.9763  29.6906  29.6626\n",
       " 29.029   29.1433  29.2485  29.2583  …  29.1547  29.9691  29.676   29.8036\n",
       " 29.3668  29.4022  29.4523  29.3927     29.702   30.424   30.0788  30.2832\n",
       " 29.2807  29.2732  29.3121  29.2985     30.0934  30.6224  30.2738  30.4604\n",
       " 29.0902  29.0125  29.022   29.0925     30.4542  30.9208  30.6285  30.6144\n",
       " 28.8026  28.662   28.6716  28.8634     30.4046  30.8168  30.6959  30.7104"
      ]
     },
     "metadata": {},
     "output_type": "display_data"
    }
   ],
   "source": [
    "#Loading and changing El Nino Data\n",
    "path_to_data = \"sst.mon.mean.nc\"\n",
    "\n",
    "x = ncread(path_to_data, \"sst\") #sst = Sea Surface Temperature\n",
    "x_reduced = x[121:170, 86:95, :] #only concerned with the important region for the El Nino happening\n",
    "\n",
    "X_vector = compress_data_matrix(x_reduced, 5, false, true)"
   ]
  },
  {
   "cell_type": "code",
   "execution_count": 123,
   "metadata": {},
   "outputs": [
    {
     "data": {
      "text/plain": [
       "train_SINDy (generic function with 4 methods)"
      ]
     },
     "metadata": {},
     "output_type": "display_data"
    }
   ],
   "source": [
    "function train_SINDy(ode_sol, n, threshold=1e-1, λ=1e-1)\n",
    "    \n",
    "    ddprob = DataDrivenProblem(ode_sol)\n",
    "    \n",
    "    @variables t x(t) y(t) z(t)  # Symbolic variables\n",
    "    u = [x, y, z]\n",
    "    #basis = Basis([polynomial_basis(u, n),sin_basis(u, 4), cos_basis(u, 4)], u, iv = t)\n",
    "    basis = Basis(fourier_basis(u, n), u, iv = t)\n",
    "     \n",
    "    optimiser = STLSQ(threshold, λ) #sparsity cut off threshold, Ridge regression parameter\n",
    "\n",
    "    ddsol = solve(ddprob, basis, optimiser, options = DataDrivenCommonOptions(digits = 2))\n",
    "    println(get_basis(ddsol))\n",
    "\n",
    "    return ddsol\n",
    "\n",
    "end"
   ]
  },
  {
   "cell_type": "code",
   "execution_count": 132,
   "metadata": {},
   "outputs": [
    {
     "name": "stdout",
     "output_type": "stream",
     "text": [
      "\u001b[0m\u001b[1mModel ##Basis#873 with 3 equations\u001b[22m\n",
      "States : x(t) y(t) z(t)\n",
      "Parameters : 36\n",
      "Independent variable: t\n",
      "Equations\n",
      "Difference(t; dt=1.0, update=false)(x(t)) = p₁*sin((1//2)*x(t)) + p₇*sin((3//2)*x(t)) + p₁₀*cos((2//1)*x(t)) + p₂*sin((1//2)*y(t)) + p₃*sin((1//2)*z(t)) + p₈*sin((3//2)*y(t)) + p₉*sin((3//2)*z(t)) + p₁₁*cos((2//1)*y(t)) + p₁₂*cos((2//1)*z(t)) + p₄*cos(x(t)) + p₅*cos(y(t)) + p₆*cos(z(t))\n",
      "Difference(t; dt=1.0, update=false)(y(t)) = p₁₃*sin((1//2)*x(t)) + p₁₄*sin((1//2)*y(t)) + p₁₅*sin((1//2)*z(t)) + p₁₆*cos(x(t)) + p₁₇*cos(y(t)) + p₁₈*cos(z(t)) + p₁₉*sin((3//2)*x(t)) + p₂₂*cos((2//1)*x(t)) + p₂₀*sin((3//2)*y(t)) + p₂₃*cos((2//1)*y(t)) + p₂₁*sin((3//2)*z(t)) + p₂₄*cos((2//1)*z(t))\n",
      "Difference(t; dt=1.0, update=false)(z(t)) = p₂₅*sin((1//2)*x(t)) + p₂₆*sin((1//2)*y(t)) + p₃₁*sin((3//2)*x(t)) + p₃₄*cos((2//1)*x(t)) + p₂₇*sin((1//2)*z(t)) + p₂₈*cos(x(t)) + p₂₉*cos(y(t)) + p₃₂*sin((3//2)*y(t)) + p₃₅*cos((2//1)*y(t)) + p₃₃*sin((3//2)*z(t)) + p₃₆*cos((2//1)*z(t)) + p₃₀*cos(z(t))\n",
      "\n"
     ]
    },
    {
     "data": {
      "text/plain": [
       "11.57"
      ]
     },
     "metadata": {},
     "output_type": "display_data"
    }
   ],
   "source": [
    "#shrink the dimensions to see if it is working\n",
    "#we have to make more basis variables\n",
    "x_sindy = X_vector[1:3,:]\n",
    "ddsol = train_SINDy(x_sindy, 4, 1e-1, 1.e-4)\n",
    "\n",
    "ddsol.prob.p[1]\n"
   ]
  },
  {
   "cell_type": "code",
   "execution_count": 133,
   "metadata": {},
   "outputs": [
    {
     "name": "stdout",
     "output_type": "stream",
     "text": [
      "(x) = p[1]*sin((1//2)*x) + p[7]*sin((3//2)*x) + p[10]*cos((2//1)*x) + p[2]*sin((1//2)*y) + p[3]*sin((1//2)*z) + p[8]*sin((3//2)*y) + p[9]*sin((3//2)*z) + p[11]*cos((2//1)*y) + p[12]*cos((2//1)*z) + p[4]*cos(x) + p[5]*cos(y) + p[6]*cos(z)\n",
      "(y) = p[13]*sin((1//2)*x) + p[14]*sin((1//2)*y) + p[15]*sin((1//2)*z) + p[16]*cos(x) + p[17]*cos(y) + p[18]*cos(z) + p[19]*sin((3//2)*x) + p[22]*cos((2//1)*x) + p[20]*sin((3//2)*y) + p[23]*cos((2//1)*y) + p[21]*sin((3//2)*z) + p[24]*cos((2//1)*z)\n",
      "(z) = p[25]*sin((1//2)*x) + p[26]*sin((1//2)*y) + p[31]*sin((3//2)*x) + p[34]*cos((2//1)*x) + p[27]*sin((1//2)*z) + p[28]*cos(x) + p[29]*cos(y) + p[32]*sin((3//2)*y) + p[35]*cos((2//1)*y) + p[33]*sin((3//2)*z) + p[36]*cos((2//1)*z) + p[30]*cos(z)\n"
     ]
    }
   ],
   "source": [
    "#this has to be done by hand right now\n",
    "\n",
    "x,y,z = ddsol.basis\n",
    "x_truncated = replace(string(x), \"(t)\" => \"\")\n",
    "x_truncated = replace(x_truncated, \"Difference(t; dt=1.0, update=false)\" => \"\")\n",
    "x_truncated = replace(x_truncated, \"~\" => \"=\")\n",
    "#x_truncated = replace(x_truncated, \"₁\" => \"[\"*string(1)*\"]\")\n",
    "for i in length(ddsol.prob.p):-1:1\n",
    "    number = string(i)\n",
    "    sub_number = sub(number)\n",
    "    s = \"[\"*string(i)*\"]\"\n",
    "    x_truncated = replace(x_truncated, sub_number => \"[\" * string(i) * \"]\")\n",
    "end\n",
    "println(x_truncated)\n",
    "x_truncated = replace(string(y), \"(t)\" => \"\")\n",
    "x_truncated = replace(x_truncated, \"Difference(t; dt=1.0, update=false)\" => \"\")\n",
    "x_truncated = replace(x_truncated, \"~\" => \"=\")\n",
    "#x_truncated = replace(x_truncated, \"₁\" => \"[\"*string(1)*\"]\")\n",
    "for i in length(ddsol.prob.p):-1:1\n",
    "    number = string(i)\n",
    "    sub_number = sub(number)\n",
    "    s = \"[\"*string(i)*\"]\"\n",
    "    x_truncated = replace(x_truncated, sub_number => \"[\" * string(i) * \"]\")\n",
    "end\n",
    "println(x_truncated)\n",
    "x_truncated = replace(string(z), \"(t)\" => \"\")\n",
    "x_truncated = replace(x_truncated, \"Difference(t; dt=1.0, update=false)\" => \"\")\n",
    "x_truncated = replace(x_truncated, \"~\" => \"=\")\n",
    "#x_truncated = replace(x_truncated, \"₁\" => \"[\"*string(1)*\"]\")\n",
    "for i in length(ddsol.prob.p):-1:1\n",
    "    number = string(i)\n",
    "    sub_number = sub(number)\n",
    "    s = \"[\"*string(i)*\"]\"\n",
    "    x_truncated = replace(x_truncated, sub_number => \"[\" * string(i) * \"]\")\n",
    "end\n",
    "println(x_truncated)"
   ]
  },
  {
   "cell_type": "code",
   "execution_count": 78,
   "metadata": {},
   "outputs": [
    {
     "data": {
      "text/plain": [
       "plot_SINDy_and_ElNino_trajectories (generic function with 1 method)"
      ]
     },
     "metadata": {},
     "output_type": "display_data"
    }
   ],
   "source": [
    "function plot_SINDy_and_ElNino_trajectories(savePath, X_vector, sindy_sol)\n",
    "    for i in 1:3\n",
    "        i_data = X_vector[i, 1:100]\n",
    "        p = plot(i_data, idxs=[1], tspan=(0, 100), label=\"El Nino Data\", title=\"on real world data\")\n",
    "        p = plot!(sindy_sol[i,1:100], idxs=[1], tspan=(0, 100), label=\"SINDy\")\n",
    "        saveEnding = string(i)\n",
    "        savePath_currently = savePath*\"trajectory_\" * string(saveEnding)*\".png\" \n",
    "        savefig(p, savePath_currently)\n",
    "    end\n",
    "end\n"
   ]
  },
  {
   "attachments": {},
   "cell_type": "markdown",
   "metadata": {},
   "source": [
    "### Last step to this one has to be done by hand for every equation for now"
   ]
  },
  {
   "cell_type": "code",
   "execution_count": 134,
   "metadata": {},
   "outputs": [],
   "source": [
    "#create diffeq from SINDy output\n",
    "function SINDy_found_function(u,p,t)\n",
    "    x, y, z = u\n",
    "\n",
    "    dx = p[1]*sin((1//2)*x) + p[7]*sin((3//2)*x) + p[10]*cos((2//1)*x) + p[2]*sin((1//2)*y) + p[3]*sin((1//2)*z) + p[8]*sin((3//2)*y) + p[9]*sin((3//2)*z) + p[11]*cos((2//1)*y) + p[12]*cos((2//1)*z) + p[4]*cos(x) + p[5]*cos(y) + p[6]*cos(z)\n",
    "    dy = p[13]*sin((1//2)*x) + p[14]*sin((1//2)*y) + p[15]*sin((1//2)*z) + p[16]*cos(x) + p[17]*cos(y) + p[18]*cos(z) + p[19]*sin((3//2)*x) + p[22]*cos((2//1)*x) + p[20]*sin((3//2)*y) + p[23]*cos((2//1)*y) + p[21]*sin((3//2)*z) + p[24]*cos((2//1)*z)\n",
    "    dz = p[25]*sin((1//2)*x) + p[26]*sin((1//2)*y) + p[31]*sin((3//2)*x) + p[34]*cos((2//1)*x) + p[27]*sin((1//2)*z) + p[28]*cos(x) + p[29]*cos(y) + p[32]*sin((3//2)*y) + p[35]*cos((2//1)*y) + p[33]*sin((3//2)*z) + p[36]*cos((2//1)*z) + p[30]*cos(z)\n",
    "    \n",
    "    return [dx, dy, dz]\n",
    "end\n",
    "\n",
    "function create_SINDy_trajectory(x0 = [1.,1.,1.],dt = 1, tstart = 1., tend = 100.)\n",
    "\n",
    "    p_SINDy = ddsol.prob.p\n",
    "    tspan = (tstart, tend)\n",
    "    saveat = tstart:dt:tend\n",
    "    x0 = X_vector[1:3,1]\n",
    "    \n",
    "    prob = ODEProblem(SINDy_found_function, x0, tspan, p_SINDy) \n",
    "    sol = solve(prob, Tsit5(), saveat=saveat)\n",
    "\n",
    "    return sol\n",
    "end\n",
    "\n",
    "sol = create_SINDy_trajectory()\n",
    "\n",
    "#savePath = \"/home/tom/Documents/GitHub/compare_ML_DynamicalSystem/MMLDS_project/Plots/SINDy/\"\n",
    "savePath = \"C:/Users/tomfi/Desktop/Uni/3M_semester/Project_MMLDS/MMLDS_2/MMLDS_project/plots/\"\n",
    "plot_SINDy_and_ElNino_trajectories(savePath, X_vector, sol)\n"
   ]
  },
  {
   "cell_type": "code",
   "execution_count": 80,
   "metadata": {},
   "outputs": [
    {
     "ename": "BoundsError",
     "evalue": "BoundsError: attempt to access 1-element Vector{Vector{Float64}} at index [2]\n\nSome of the types have been truncated in the stacktrace for improved reading. To emit complete information\nin the stack trace, evaluate `TruncatedStacktraces.VERBOSE[] = true` and re-run the code.\n",
     "output_type": "error",
     "traceback": [
      "BoundsError: attempt to access 1-element Vector{Vector{Float64}} at index [2]\n",
      "\n",
      "Some of the types have been truncated in the stacktrace for improved reading. To emit complete information\n",
      "in the stack trace, evaluate `TruncatedStacktraces.VERBOSE[] = true` and re-run the code.\n",
      "\n",
      "\n",
      "Stacktrace:\n",
      " [1] getindex\n",
      "   @ .\\array.jl:924 [inlined]\n",
      " [2] #452\n",
      "   @ .\\none:0 [inlined]\n",
      " [3] iterate\n",
      "   @ .\\generator.jl:47 [inlined]\n",
      " [4] collect_to!\n",
      "   @ .\\array.jl:845 [inlined]\n",
      " [5] collect_to_with_first!\n",
      "   @ .\\array.jl:823 [inlined]\n",
      " [6] collect(itr::Base.Generator{UnitRange{Int64}, SciMLBase.var\"#452#453\"{ODESolution{Float64, 2, Vector{Vector{Float64}}, Nothing, Nothing, Vector{Float64}, Vector{Vector{Vector{Float64}}}, ODEProblem{false,Vector{Float64},Tuple{Float64, Float64},…}, Tsit5{Static.False,…}, OrdinaryDiffEq.InterpolationData{ODEFunction{false,SciMLBase.AutoSpecialize,…}, Vector{Vector{Float64}}, Vector{Float64}, Vector{Vector{Vector{Float64}}}, OrdinaryDiffEq.Tsit5ConstantCache}, DiffEqBase.DEStats, Nothing}, Int64}})\n",
      "   @ Base .\\array.jl:797\n",
      " [7] getindex(A::ODESolution{Float64, 2, Vector{Vector{Float64}}, Nothing, Nothing, Vector{Float64}, Vector{Vector{Vector{Float64}}}, ODEProblem{false,Vector{Float64},Tuple{Float64, Float64},…}, Tsit5{Static.False,…}, OrdinaryDiffEq.InterpolationData{ODEFunction{false,SciMLBase.AutoSpecialize,…}, Vector{Vector{Float64}}, Vector{Float64}, Vector{Vector{Vector{Float64}}}, OrdinaryDiffEq.Tsit5ConstantCache}, DiffEqBase.DEStats, Nothing}, i::Int64, II::UnitRange{Int64})\n",
      "   @ SciMLBase C:\\Users\\tomfi\\.julia\\packages\\SciMLBase\\zXEYU\\src\\solutions\\solution_interface.jl:61\n",
      " [8] top-level scope\n",
      "   @ c:\\Users\\tomfi\\Desktop\\Uni\\3M_semester\\Project_MMLDS\\MMLDS_2\\MMLDS_project\\src\\SINDy_El_Nino.ipynb:1"
     ]
    }
   ],
   "source": [
    "sol[1,1:100]"
   ]
  }
 ],
 "metadata": {
  "kernelspec": {
   "display_name": "Julia 1.8.5",
   "language": "julia",
   "name": "julia-1.8"
  },
  "language_info": {
   "file_extension": ".jl",
   "mimetype": "application/julia",
   "name": "julia",
   "version": "1.8.5"
  },
  "orig_nbformat": 4
 },
 "nbformat": 4,
 "nbformat_minor": 2
}
